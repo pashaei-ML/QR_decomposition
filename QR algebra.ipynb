{
 "cells": [
  {
   "cell_type": "code",
   "execution_count": 74,
   "metadata": {},
   "outputs": [],
   "source": [
    "import numpy as np\n",
    "\n",
    "#import pandas as pd\n",
    "\n",
    "#df = pd.read_csv('data.csv')"
   ]
  },
  {
   "cell_type": "code",
   "execution_count": 56,
   "metadata": {},
   "outputs": [],
   "source": [
    "A = np.array([[1, 1, 1],\n",
    "              [1, 2, 2],\n",
    "              [1, 2, 3]], dtype=float)"
   ]
  },
  {
   "cell_type": "code",
   "execution_count": 57,
   "metadata": {},
   "outputs": [
    {
     "data": {
      "text/plain": [
       "array([[1., 1., 1.],\n",
       "       [1., 2., 2.],\n",
       "       [1., 2., 3.]])"
      ]
     },
     "execution_count": 57,
     "metadata": {},
     "output_type": "execute_result"
    }
   ],
   "source": [
    "A"
   ]
  },
  {
   "cell_type": "code",
   "execution_count": 58,
   "metadata": {},
   "outputs": [],
   "source": [
    "from sympy import Matrix"
   ]
  },
  {
   "cell_type": "code",
   "execution_count": 59,
   "metadata": {},
   "outputs": [],
   "source": [
    "A_m = Matrix(A)"
   ]
  },
  {
   "cell_type": "code",
   "execution_count": 60,
   "metadata": {},
   "outputs": [],
   "source": [
    "col_space = A_m.columnspace()"
   ]
  },
  {
   "cell_type": "code",
   "execution_count": 61,
   "metadata": {},
   "outputs": [
    {
     "data": {
      "text/plain": [
       "[Matrix([\n",
       " [1.0],\n",
       " [1.0],\n",
       " [1.0]]),\n",
       " Matrix([\n",
       " [1.0],\n",
       " [2.0],\n",
       " [2.0]]),\n",
       " Matrix([\n",
       " [1.0],\n",
       " [2.0],\n",
       " [3.0]])]"
      ]
     },
     "execution_count": 61,
     "metadata": {},
     "output_type": "execute_result"
    }
   ],
   "source": [
    "col_space"
   ]
  },
  {
   "cell_type": "code",
   "execution_count": 62,
   "metadata": {},
   "outputs": [],
   "source": [
    "R_A=np.array(col_space)"
   ]
  },
  {
   "cell_type": "code",
   "execution_count": 63,
   "metadata": {},
   "outputs": [
    {
     "data": {
      "text/plain": [
       "array([[[1.00000000000000],\n",
       "        [1.00000000000000],\n",
       "        [1.00000000000000]],\n",
       "\n",
       "       [[1.00000000000000],\n",
       "        [2.00000000000000],\n",
       "        [2.00000000000000]],\n",
       "\n",
       "       [[1.00000000000000],\n",
       "        [2.00000000000000],\n",
       "        [3.00000000000000]]], dtype=object)"
      ]
     },
     "execution_count": 63,
     "metadata": {},
     "output_type": "execute_result"
    }
   ],
   "source": [
    "R_A"
   ]
  },
  {
   "cell_type": "code",
   "execution_count": 64,
   "metadata": {},
   "outputs": [
    {
     "name": "stdout",
     "output_type": "stream",
     "text": [
      "3\n"
     ]
    }
   ],
   "source": [
    "n = A.shape[1]\n",
    "print(n)"
   ]
  },
  {
   "cell_type": "code",
   "execution_count": 65,
   "metadata": {},
   "outputs": [
    {
     "name": "stdout",
     "output_type": "stream",
     "text": [
      "[[ 5.77350269e-01 -8.16496581e-01 -3.14018492e-16]\n",
      " [ 5.77350269e-01  4.08248290e-01 -7.07106781e-01]\n",
      " [ 5.77350269e-01  4.08248290e-01  7.07106781e-01]]\n"
     ]
    }
   ],
   "source": [
    "for j in range(n):\n",
    "\n",
    "   for k in range(j):\n",
    "      A[:, j] = A[:, j] - np.dot(A[:, k], A[:, j]) * A[:, k]\n",
    "   A[:, j] = A[:, j] / np.linalg.norm(A[:, j])\n",
    " \n",
    "print(A)"
   ]
  },
  {
   "cell_type": "code",
   "execution_count": 66,
   "metadata": {},
   "outputs": [],
   "source": [
    "Q=A"
   ]
  },
  {
   "cell_type": "code",
   "execution_count": 67,
   "metadata": {},
   "outputs": [
    {
     "data": {
      "text/plain": [
       "(3, 3)"
      ]
     },
     "execution_count": 67,
     "metadata": {},
     "output_type": "execute_result"
    }
   ],
   "source": [
    "Q.shape"
   ]
  },
  {
   "cell_type": "code",
   "execution_count": 70,
   "metadata": {},
   "outputs": [
    {
     "name": "stdout",
     "output_type": "stream",
     "text": [
      "[[ 5.77350269e-01  5.77350269e-01  5.77350269e-01]\n",
      " [-8.16496581e-01  4.08248290e-01  4.08248290e-01]\n",
      " [-3.14018492e-16 -7.07106781e-01  7.07106781e-01]]\n"
     ]
    }
   ],
   "source": [
    "QT=Q.transpose()\n",
    "print(QT)"
   ]
  },
  {
   "cell_type": "code",
   "execution_count": 72,
   "metadata": {},
   "outputs": [
    {
     "name": "stdout",
     "output_type": "stream",
     "text": [
      "[[ 3.33333333e-01 -4.71404521e-01 -1.81298661e-16]\n",
      " [-4.71404521e-01  1.66666667e-01 -2.88675135e-01]\n",
      " [-1.81298661e-16 -2.88675135e-01  5.00000000e-01]]\n"
     ]
    }
   ],
   "source": [
    "r=QT*A\n",
    "print(r)"
   ]
  },
  {
   "cell_type": "code",
   "execution_count": null,
   "metadata": {},
   "outputs": [],
   "source": []
  }
 ],
 "metadata": {
  "kernelspec": {
   "display_name": "Python 3",
   "language": "python",
   "name": "python3"
  },
  "language_info": {
   "codemirror_mode": {
    "name": "ipython",
    "version": 3
   },
   "file_extension": ".py",
   "mimetype": "text/x-python",
   "name": "python",
   "nbconvert_exporter": "python",
   "pygments_lexer": "ipython3",
   "version": "3.11.9"
  }
 },
 "nbformat": 4,
 "nbformat_minor": 2
}
